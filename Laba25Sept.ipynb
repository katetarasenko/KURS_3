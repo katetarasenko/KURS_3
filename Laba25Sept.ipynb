{
  "nbformat": 4,
  "nbformat_minor": 0,
  "metadata": {
    "colab": {
      "provenance": [],
      "authorship_tag": "ABX9TyN2cwI1Cfy6HKjZZ4nMFzG3",
      "include_colab_link": true
    },
    "kernelspec": {
      "name": "python3",
      "display_name": "Python 3"
    },
    "language_info": {
      "name": "python"
    }
  },
  "cells": [
    {
      "cell_type": "markdown",
      "metadata": {
        "id": "view-in-github",
        "colab_type": "text"
      },
      "source": [
        "<a href=\"https://colab.research.google.com/github/katetarasenko/KURS_3/blob/main/Laba25Sept.ipynb\" target=\"_parent\"><img src=\"https://colab.research.google.com/assets/colab-badge.svg\" alt=\"Open In Colab\"/></a>"
      ]
    },
    {
      "cell_type": "code",
      "execution_count": null,
      "metadata": {
        "id": "yZcgmiCtZzNM"
      },
      "outputs": [],
      "source": [
        "import pandas as pd\n",
        "import requests\n",
        "from bs4 import BeautifulSoup\n",
        "#from selenium import webdriver\n",
        "\n",
        "url = 'https://en.wikipedia.org/wiki/Demographics_of_Ukraine'\n",
        "url = 'https://uk.wikipedia.org/wiki/%D0%9D%D0%B0%D1%80%D0%BE%D0%B4%D0%B6%D1%83%D0%B2%D0%B0%D0%BD%D1%96%D1%81%D1%82%D1%8C_%D0%B2_%D0%A3%D0%BA%D1%80%D0%B0%D1%97%D0%BD%D1%96'\n",
        "response = requests.get(url)\n",
        "\n",
        "soup = BeautifulSoup(response.text, 'html.parser')\n",
        "tables = soup.find_all(\"table\", class_=\"wikitable\")\n",
        "table = tables[10] #Table #11\n",
        "\n",
        "if table:\n",
        "    df = pd.read_html(str(table))[0]  # Using read_html to parse the HTML table\n",
        "    print(df)\n",
        "else:\n",
        "    print(\"No table found on the page.\")"
      ]
    },
    {
      "cell_type": "code",
      "source": [
        "df"
      ],
      "metadata": {
        "id": "EA3RK7PUaDBT"
      },
      "execution_count": null,
      "outputs": []
    }
  ]
}