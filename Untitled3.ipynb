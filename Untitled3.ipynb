{
 "cells": [
  {
   "cell_type": "code",
   "execution_count": 6,
   "id": "fb0d3a35-caa0-4b8c-a1be-fe4adf1f5f65",
   "metadata": {},
   "outputs": [],
   "source": [
    "import numpy as np"
   ]
  },
  {
   "cell_type": "markdown",
   "id": "54488f0c-03c2-4ed1-b5d3-cd4ac402d593",
   "metadata": {},
   "source": [
    "1.Створіть одновимірний масив (вектор) з першими 20-ма натуральними числами та виведіть його значення. "
   ]
  },
  {
   "cell_type": "code",
   "execution_count": 4,
   "id": "d4c763a0-b111-4230-aff6-ec3a346b9cb3",
   "metadata": {},
   "outputs": [
    {
     "name": "stdout",
     "output_type": "stream",
     "text": [
      "[1, 2, 3, 4, 5, 6, 7, 8, 9, 10, 11, 12, 13, 14, 15, 16, 17, 18, 19, 20]\n"
     ]
    }
   ],
   "source": [
    " n = 20 \n",
    "natural_numbers = []\n",
    "for i in range(0, n):\n",
    "    natural_numbers = natural_numbers + [i+1] \n",
    "print(natural_numbers)"
   ]
  },
  {
   "cell_type": "markdown",
   "id": "dcc47b7c-acbc-42af-b32e-b026a0ca4530",
   "metadata": {},
   "source": [
    "Створіть двовимірний масив (матрицю) розміром 4x4, заповніть його одиницями та виведіть його значення. "
   ]
  },
  {
   "cell_type": "code",
   "execution_count": 7,
   "id": "7d858602-e28b-4ec2-8454-af0d5eacd9f3",
   "metadata": {},
   "outputs": [
    {
     "name": "stdout",
     "output_type": "stream",
     "text": [
      "[[1 1 1 1]\n",
      " [1 1 1 1]\n",
      " [1 1 1 1]\n",
      " [1 1 1 1]]\n"
     ]
    }
   ],
   "source": [
    "matrix = np.ones((4, 4), dtype=int)\n",
    "print(matrix)"
   ]
  },
  {
   "cell_type": "markdown",
   "id": "c976dfab-e7c2-4aa5-b8e0-eccc467271a5",
   "metadata": {},
   "source": [
    "Створіть масив розміром 5x5, заповніть його випадковими дійсними числами в діапазоні від -1 до 1 та виведіть його значення. "
   ]
  },
  {
   "cell_type": "code",
   "execution_count": 8,
   "id": "e73c7bab-5ac7-4e36-8375-1e9a8bca5cf4",
   "metadata": {},
   "outputs": [
    {
     "name": "stdout",
     "output_type": "stream",
     "text": [
      "[[-0.87564195  0.08783996 -0.63886944 -0.00135212 -0.28978693]\n",
      " [-0.95392844  0.6894417   0.84824718 -0.97495185 -0.99116071]\n",
      " [-0.24456332  0.64169756 -0.10199626 -0.17997913  0.44234815]\n",
      " [-0.03177511 -0.48305953 -0.22162867  0.4673447  -0.31824926]\n",
      " [-0.19960973 -0.68754732  0.02597263  0.30935761  0.73470268]]\n"
     ]
    }
   ],
   "source": [
    "matrix = np.random.uniform(low= -1, high=1, size=(5, 5))\n",
    "print(matrix)"
   ]
  },
  {
   "cell_type": "markdown",
   "id": "eeabecc7-1753-4420-91ec-b27153f9ccd5",
   "metadata": {},
   "source": [
    "Створіть масив розміром 3x3, заповніть його випадковими дійсними числами в діапазоні від 0 до 1 та виведіть його значення. "
   ]
  },
  {
   "cell_type": "code",
   "execution_count": 10,
   "id": "72259672-fc64-46a2-89c0-345014410321",
   "metadata": {},
   "outputs": [
    {
     "name": "stdout",
     "output_type": "stream",
     "text": [
      "[[0.51982989 0.99574223 0.27019221]\n",
      " [0.41702351 0.64164548 0.0400609 ]\n",
      " [0.496967   0.37967006 0.52572941]]\n"
     ]
    }
   ],
   "source": [
    "matrix = np.random.rand(3, 3)\n",
    "print(matrix)"
   ]
  },
  {
   "cell_type": "markdown",
   "id": "a98d5598-90d7-4b85-847c-d67c9af1145f",
   "metadata": {},
   "source": [
    "Створіть два одновимірних масиви розміром 6, заповніть їх випадковими цілими числами в діапазоні від 1 до 20 та виконайте на них поелементні операції додавання, віднімання та множення. "
   ]
  },
  {
   "cell_type": "code",
   "execution_count": 12,
   "id": "5ad451f9-0f23-4790-8fcf-99d527cc1b7f",
   "metadata": {},
   "outputs": [
    {
     "name": "stdout",
     "output_type": "stream",
     "text": [
      "Vector 1: [ 8  8 20 19 17 12]\n",
      "Vector 2: [ 8  1  4  5 20 12]\n",
      "Vector Sum: [16  9 24 24 37 24]\n",
      "Vector Division: [1.   8.   5.   3.8  0.85 1.  ]\n",
      "Vector substraction: [ 0  7 16 14 -3  0]\n",
      "Vector product: [ 64   8  80  95 340 144]\n"
     ]
    }
   ],
   "source": [
    "vector1 = np.random.randint(1, 21, size=6) \n",
    "vector2 = np.random.randint(1, 21, size=6)\n",
    "vector_sum = vector1 + vector2\n",
    "vector_division = vector1 / vector2\n",
    "vector_product = vector1 * vector2\n",
    "vector_substraction = vector1 - vector2\n",
    "print(\"Vector 1:\", vector1)\n",
    "print(\"Vector 2:\", vector2)\n",
    "print(\"Vector Sum:\", vector_sum)\n",
    "print(\"Vector Division:\", vector_division)\n",
    "print(\"Vector substraction:\", vector_substraction)\n",
    "print(\"Vector product:\", vector_product)"
   ]
  },
  {
   "cell_type": "markdown",
   "id": "cababea8-53b2-4f64-992f-9fca55440111",
   "metadata": {},
   "source": [
    "Створіть дві матриці розміром 3x2 та 2x4, заповніть їх випадковими цілими числами в діапазоні від 1 до 5 та перемножте їх між собою. "
   ]
  },
  {
   "cell_type": "code",
   "execution_count": 14,
   "id": "18710397-19ea-4f63-b1a8-dd157e1c76ea",
   "metadata": {},
   "outputs": [
    {
     "name": "stdout",
     "output_type": "stream",
     "text": [
      "[[1 2]\n",
      " [4 4]\n",
      " [1 1]]\n",
      "[[1 1 1 4]\n",
      " [1 2 1 3]]\n",
      "[[ 3  5  3 10]\n",
      " [ 8 12  8 28]\n",
      " [ 2  3  2  7]]\n"
     ]
    }
   ],
   "source": [
    "matrix1 = np.random.randint(1, 5, size=(3, 2))\n",
    "matrix2 = np.random.randint(1, 5, size=(2, 4))\n",
    "result_matrix = np.dot(matrix1, matrix2)\n",
    "print(matrix1)\n",
    "print(matrix2)\n",
    "print(result_matrix)"
   ]
  },
  {
   "cell_type": "markdown",
   "id": "d7df62ce-b322-49f1-8c86-990a64e67929",
   "metadata": {},
   "source": [
    "Створіть матрицю розміром 3x3, заповніть її випадковими дійсними числами в діапазоні від 0 до 1 та транспонуйте її. "
   ]
  },
  {
   "cell_type": "code",
   "execution_count": 17,
   "id": "58a3c924-338f-4fea-80f5-82ce70048985",
   "metadata": {},
   "outputs": [
    {
     "name": "stdout",
     "output_type": "stream",
     "text": [
      "[[0.28476262 0.21499442 0.49610641]\n",
      " [0.60757329 0.68053885 0.57527133]\n",
      " [0.09885764 0.19152619 0.00109567]]\n",
      "[[0.28476262 0.60757329 0.09885764]\n",
      " [0.21499442 0.68053885 0.19152619]\n",
      " [0.49610641 0.57527133 0.00109567]]\n"
     ]
    }
   ],
   "source": [
    "matrix = np.random.rand(3, 3)\n",
    "t_mat = matrix.T\n",
    "print(matrix)\n",
    "print(t_mat)"
   ]
  },
  {
   "cell_type": "markdown",
   "id": "28ca3402-8c18-4412-9583-d5f5f597821e",
   "metadata": {},
   "source": [
    "Створіть дві матриці розміром 3x3, заповніть їх випадковими цілими числами в діапазоні від 1 до 10 та знайдіть їхню різницю. "
   ]
  },
  {
   "cell_type": "code",
   "execution_count": null,
   "id": "75bf5000-3342-4c48-95d2-8a794fea1d98",
   "metadata": {},
   "outputs": [],
   "source": []
  },
  {
   "cell_type": "markdown",
   "id": "ccc08e14-dda3-428f-b2b1-4ccf30302dd2",
   "metadata": {},
   "source": [
    "Створіть дві матриці розміром 3x3, заповніть їх випадковими цілими числами в діапазоні від -5 до 5 та знайдіть їх добуток. "
   ]
  },
  {
   "cell_type": "code",
   "execution_count": null,
   "id": "9756c0b1-cfec-4056-b533-06c6d6b26e55",
   "metadata": {},
   "outputs": [],
   "source": []
  },
  {
   "cell_type": "markdown",
   "id": "e69394e4-0ba5-4f52-9ed7-9b9777bf3dc9",
   "metadata": {},
   "source": [
    "Створіть матрицю розміром 3x3, заповніть її випадковими дійсними числами в діапазоні від -1 до 1 та знайдіть вектор-стовпчик, що містить суму елементів кожного рядка матриці. "
   ]
  },
  {
   "cell_type": "code",
   "execution_count": null,
   "id": "cd44200e-b3c3-4c42-98cd-fb4e5324fbce",
   "metadata": {},
   "outputs": [],
   "source": []
  },
  {
   "cell_type": "markdown",
   "id": "67d601bd-1c04-4668-9aad-0a5442cc575f",
   "metadata": {},
   "source": [
    " \n",
    "\n",
    "Завдання 2. Робота з бібліотекою Pandas "
   ]
  },
  {
   "cell_type": "markdown",
   "id": "303938ff-0a49-43e0-8ab5-0f90e6b4f22e",
   "metadata": {},
   "source": [
    "Відобразити перші 10 рядків таблиці за допомогою методу head "
   ]
  },
  {
   "cell_type": "code",
   "execution_count": 2,
   "id": "898d137d-5c77-41f8-ad64-f55cf72dd787",
   "metadata": {},
   "outputs": [],
   "source": [
    "import pandas as pd"
   ]
  },
  {
   "cell_type": "code",
   "execution_count": 15,
   "id": "770aafcc-a645-4e28-820a-dae9edc084b5",
   "metadata": {},
   "outputs": [
    {
     "name": "stdout",
     "output_type": "stream",
     "text": [
      "      Birth rate by oblast  Birth/2014  Birth/2013  Birth/2012  Birth/2011  \\\n",
      "0             Rivne Oblast        14.8        15.1        15.9        15.3   \n",
      "1       Zakarpattia Oblast        14.6        14.7        15.1        14.8   \n",
      "2             Volyn Oblast        14.1        14.1        14.8        14.1   \n",
      "3        Chernivtsi Oblast        12.9        12.6        12.8        12.5   \n",
      "4             Odesa Oblast        12.3        12.1        12.7        12.2   \n",
      "5   Ivano-Frankivsk Oblast        12.2        12.1        12.4        12.0   \n",
      "6              Kyiv Oblast        12.1        11.9        12.2        11.7   \n",
      "7                Kyiv City        12.1        11.7        12.0        11.4   \n",
      "8          Zhytomyr Oblast        12.0        11.9        12.2        11.9   \n",
      "9              Lviv Oblast        11.9        11.6        11.9        11.4   \n",
      "10          Kherson Oblast        11.5        11.4        11.7        11.1   \n",
      "11         Mykolaiv Oblast        11.2        11.1        11.5        11.0   \n",
      "12     Khmelnytskyi Oblast        11.2        11.1        11.3        11.0   \n",
      "13   Dnipropetrovsk Oblast        11.1        11.0        11.2        10.9   \n",
      "14        Vinnytsia Oblast        10.9        10.8        11.2        10.9   \n",
      "15         Ternopil Oblast        10.9        11.0        11.3        11.1   \n",
      "16       Kirovohrad Oblast        10.8        10.7        11.0        10.5   \n",
      "17     Zaporizhzhia Oblast        10.6        10.2        10.6        10.1   \n",
      "18          Kharkiv Oblast        10.1         9.8         9.9         9.6   \n",
      "19          Poltava Oblast        10.0         9.8         9.9         9.5   \n",
      "20         Cherkasy Oblast         9.8         9.6        10.1         9.8   \n",
      "21             Sumy Oblast         9.2         9.2         9.7         9.1   \n",
      "22        Chernihiv Oblast         9.0         9.2         9.4         9.3   \n",
      "23          Donetsk Oblast         8.2         9.4         9.8         9.5   \n",
      "24          Luhansk Oblast         5.1         9.1         9.6         9.3   \n",
      "\n",
      "    Death/2014  Death/2013  Death/2012  Death/2011  \n",
      "0         12.7        12.6        12.4        12.3  \n",
      "1         11.8        11.8        11.8        11.7  \n",
      "2         13.2        13.1        13.2        13.3  \n",
      "3         12.8        12.7        12.5        12.4  \n",
      "4         14.3        14.0        14.1        14.1  \n",
      "5         12.8        12.6        12.2        12.1  \n",
      "6         16.4        15.8        15.8        15.6  \n",
      "7         10.4         9.8         9.8         9.6  \n",
      "8         16.8        16.5        16.3        16.0  \n",
      "9         12.8        12.4        12.5        12.3  \n",
      "10        15.1        14.9        14.7        14.6  \n",
      "11        15.2        14.8        14.7        14.8  \n",
      "12        15.6        15.7        15.5        15.2  \n",
      "13        16.0        15.5        15.5        15.7  \n",
      "14        15.9        15.7        15.4        15.5  \n",
      "15        14.2        13.7        13.8        13.7  \n",
      "16        17.0        16.7        16.5        16.6  \n",
      "17        15.7        14.9        14.8        15.0  \n",
      "18        15.3        14.4        14.6        14.6  \n",
      "19        17.1        16.7        16.5        16.4  \n",
      "20        16.5        16.2        16.2        16.3  \n",
      "21        17.2        16.9        16.6        16.3  \n",
      "22        19.2        18.6        18.7        18.5  \n",
      "23        16.6        15.9        16.1        16.1  \n",
      "24        10.2        15.9        16.0        16.3  \n"
     ]
    },
    {
     "name": "stderr",
     "output_type": "stream",
     "text": [
      "C:\\Users\\Kate\\AppData\\Local\\Temp\\ipykernel_14184\\2850252207.py:8: FutureWarning: Passing literal html to 'read_html' is deprecated and will be removed in a future version. To read from a literal string, wrap it in a 'StringIO' object.\n",
      "  df = pd.read_html(str(table))[0]\n"
     ]
    }
   ],
   "source": [
    "import requests\n",
    "from bs4 import BeautifulSoup\n",
    "from selenium import webdriver\n",
    "res = requests.get(\"https://uk.wikipedia.org/wiki/%D0%9D%D0%B0%D1%80%D0%BE%D0%B4%D0%B6%D1%83%D0%B2%D0%B0%D0%BD%D1%96%D1%81%D1%82%D1%8C_%D0%B2_%D0%A3%D0%BA%D1%80%D0%B0%D1%97%D0%BD%D1%96\")\n",
    "soup = BeautifulSoup(res.text, 'html.parser') #if you find any problem with \"lxml\" then try using \"html.parser\" instead\n",
    "tables = soup.find_all(\"table\", class_=\"wikitable\")\n",
    "table = tables[10] #Table #11\n",
    "df = pd.read_html(str(table))[0] \n",
    "print(df)"
   ]
  },
  {
   "cell_type": "code",
   "execution_count": null,
   "id": "20812691-31ac-4af0-8f44-b52723cc5e25",
   "metadata": {},
   "outputs": [],
   "source": []
  },
  {
   "cell_type": "code",
   "execution_count": null,
   "id": "d309cd00-c3f6-40a2-895d-7f97c31efcba",
   "metadata": {},
   "outputs": [],
   "source": []
  }
 ],
 "metadata": {
  "kernelspec": {
   "display_name": "Python 3 (ipykernel)",
   "language": "python",
   "name": "python3"
  },
  "language_info": {
   "codemirror_mode": {
    "name": "ipython",
    "version": 3
   },
   "file_extension": ".py",
   "mimetype": "text/x-python",
   "name": "python",
   "nbconvert_exporter": "python",
   "pygments_lexer": "ipython3",
   "version": "3.10.9"
  }
 },
 "nbformat": 4,
 "nbformat_minor": 5
}
